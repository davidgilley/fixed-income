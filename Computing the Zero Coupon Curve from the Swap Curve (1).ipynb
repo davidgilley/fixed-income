{
 "cells": [
  {
   "cell_type": "markdown",
   "metadata": {},
   "source": [
    "# Zero coupon curve derivation\n",
    "This is the Python implementation of the zero coupon curve derivation from swap rates taught in my Capital Markets class at IE Business School. \n",
    "\n",
    "Swap rates are scraped from SEB Group at the link below:\n",
    "\n",
    "https://sebgroup.com/large-corporates-and-institutions/prospectuses-and-downloads/rates/swap-rates\n"
   ]
  },
  {
   "cell_type": "code",
   "execution_count": 1,
   "metadata": {},
   "outputs": [
    {
     "ename": "NoSuchElementException",
     "evalue": "Message: no such element: Unable to locate element: {\"method\":\"id\",\"selector\":\"iFrameResizer0\"}\n  (Session info: headless chrome=75.0.3770.100)\n  (Driver info: chromedriver=72.0.3626.69 (3c16f8a135abc0d4da2dff33804db79b849a7c38),platform=Windows NT 10.0.17134 x86_64)\n",
     "output_type": "error",
     "traceback": [
      "\u001b[1;31m---------------------------------------------------------------------------\u001b[0m",
      "\u001b[1;31mNoSuchElementException\u001b[0m                    Traceback (most recent call last)",
      "\u001b[1;32m<ipython-input-1-29d9d960e8d6>\u001b[0m in \u001b[0;36m<module>\u001b[1;34m()\u001b[0m\n\u001b[0;32m     23\u001b[0m                           options=options) \n\u001b[0;32m     24\u001b[0m \u001b[0mdriver\u001b[0m\u001b[1;33m.\u001b[0m\u001b[0mget\u001b[0m\u001b[1;33m(\u001b[0m\u001b[0murl\u001b[0m\u001b[1;33m)\u001b[0m\u001b[1;33m\u001b[0m\u001b[0m\n\u001b[1;32m---> 25\u001b[1;33m \u001b[0mdriver\u001b[0m\u001b[1;33m.\u001b[0m\u001b[0mswitch_to\u001b[0m\u001b[1;33m.\u001b[0m\u001b[0mframe\u001b[0m\u001b[1;33m(\u001b[0m\u001b[0mdriver\u001b[0m\u001b[1;33m.\u001b[0m\u001b[0mfind_element_by_id\u001b[0m\u001b[1;33m(\u001b[0m\u001b[1;34m'iFrameResizer0'\u001b[0m\u001b[1;33m)\u001b[0m\u001b[1;33m)\u001b[0m\u001b[1;33m\u001b[0m\u001b[0m\n\u001b[0m\u001b[0;32m     26\u001b[0m \u001b[0mdfs\u001b[0m \u001b[1;33m=\u001b[0m \u001b[0mpd\u001b[0m\u001b[1;33m.\u001b[0m\u001b[0mread_html\u001b[0m\u001b[1;33m(\u001b[0m\u001b[0mdriver\u001b[0m\u001b[1;33m.\u001b[0m\u001b[0mpage_source\u001b[0m\u001b[1;33m)\u001b[0m\u001b[1;33m\u001b[0m\u001b[0m\n\u001b[0;32m     27\u001b[0m \u001b[0mdriver\u001b[0m\u001b[1;33m.\u001b[0m\u001b[0mclose\u001b[0m\u001b[1;33m(\u001b[0m\u001b[1;33m)\u001b[0m\u001b[1;33m\u001b[0m\u001b[0m\n",
      "\u001b[1;32m~\\AppData\\Local\\Continuum\\anaconda3\\lib\\site-packages\\selenium\\webdriver\\remote\\webdriver.py\u001b[0m in \u001b[0;36mfind_element_by_id\u001b[1;34m(self, id_)\u001b[0m\n\u001b[0;32m    358\u001b[0m             \u001b[0melement\u001b[0m \u001b[1;33m=\u001b[0m \u001b[0mdriver\u001b[0m\u001b[1;33m.\u001b[0m\u001b[0mfind_element_by_id\u001b[0m\u001b[1;33m(\u001b[0m\u001b[1;34m'foo'\u001b[0m\u001b[1;33m)\u001b[0m\u001b[1;33m\u001b[0m\u001b[0m\n\u001b[0;32m    359\u001b[0m         \"\"\"\n\u001b[1;32m--> 360\u001b[1;33m         \u001b[1;32mreturn\u001b[0m \u001b[0mself\u001b[0m\u001b[1;33m.\u001b[0m\u001b[0mfind_element\u001b[0m\u001b[1;33m(\u001b[0m\u001b[0mby\u001b[0m\u001b[1;33m=\u001b[0m\u001b[0mBy\u001b[0m\u001b[1;33m.\u001b[0m\u001b[0mID\u001b[0m\u001b[1;33m,\u001b[0m \u001b[0mvalue\u001b[0m\u001b[1;33m=\u001b[0m\u001b[0mid_\u001b[0m\u001b[1;33m)\u001b[0m\u001b[1;33m\u001b[0m\u001b[0m\n\u001b[0m\u001b[0;32m    361\u001b[0m \u001b[1;33m\u001b[0m\u001b[0m\n\u001b[0;32m    362\u001b[0m     \u001b[1;32mdef\u001b[0m \u001b[0mfind_elements_by_id\u001b[0m\u001b[1;33m(\u001b[0m\u001b[0mself\u001b[0m\u001b[1;33m,\u001b[0m \u001b[0mid_\u001b[0m\u001b[1;33m)\u001b[0m\u001b[1;33m:\u001b[0m\u001b[1;33m\u001b[0m\u001b[0m\n",
      "\u001b[1;32m~\\AppData\\Local\\Continuum\\anaconda3\\lib\\site-packages\\selenium\\webdriver\\remote\\webdriver.py\u001b[0m in \u001b[0;36mfind_element\u001b[1;34m(self, by, value)\u001b[0m\n\u001b[0;32m    976\u001b[0m         return self.execute(Command.FIND_ELEMENT, {\n\u001b[0;32m    977\u001b[0m             \u001b[1;34m'using'\u001b[0m\u001b[1;33m:\u001b[0m \u001b[0mby\u001b[0m\u001b[1;33m,\u001b[0m\u001b[1;33m\u001b[0m\u001b[0m\n\u001b[1;32m--> 978\u001b[1;33m             'value': value})['value']\n\u001b[0m\u001b[0;32m    979\u001b[0m \u001b[1;33m\u001b[0m\u001b[0m\n\u001b[0;32m    980\u001b[0m     \u001b[1;32mdef\u001b[0m \u001b[0mfind_elements\u001b[0m\u001b[1;33m(\u001b[0m\u001b[0mself\u001b[0m\u001b[1;33m,\u001b[0m \u001b[0mby\u001b[0m\u001b[1;33m=\u001b[0m\u001b[0mBy\u001b[0m\u001b[1;33m.\u001b[0m\u001b[0mID\u001b[0m\u001b[1;33m,\u001b[0m \u001b[0mvalue\u001b[0m\u001b[1;33m=\u001b[0m\u001b[1;32mNone\u001b[0m\u001b[1;33m)\u001b[0m\u001b[1;33m:\u001b[0m\u001b[1;33m\u001b[0m\u001b[0m\n",
      "\u001b[1;32m~\\AppData\\Local\\Continuum\\anaconda3\\lib\\site-packages\\selenium\\webdriver\\remote\\webdriver.py\u001b[0m in \u001b[0;36mexecute\u001b[1;34m(self, driver_command, params)\u001b[0m\n\u001b[0;32m    319\u001b[0m         \u001b[0mresponse\u001b[0m \u001b[1;33m=\u001b[0m \u001b[0mself\u001b[0m\u001b[1;33m.\u001b[0m\u001b[0mcommand_executor\u001b[0m\u001b[1;33m.\u001b[0m\u001b[0mexecute\u001b[0m\u001b[1;33m(\u001b[0m\u001b[0mdriver_command\u001b[0m\u001b[1;33m,\u001b[0m \u001b[0mparams\u001b[0m\u001b[1;33m)\u001b[0m\u001b[1;33m\u001b[0m\u001b[0m\n\u001b[0;32m    320\u001b[0m         \u001b[1;32mif\u001b[0m \u001b[0mresponse\u001b[0m\u001b[1;33m:\u001b[0m\u001b[1;33m\u001b[0m\u001b[0m\n\u001b[1;32m--> 321\u001b[1;33m             \u001b[0mself\u001b[0m\u001b[1;33m.\u001b[0m\u001b[0merror_handler\u001b[0m\u001b[1;33m.\u001b[0m\u001b[0mcheck_response\u001b[0m\u001b[1;33m(\u001b[0m\u001b[0mresponse\u001b[0m\u001b[1;33m)\u001b[0m\u001b[1;33m\u001b[0m\u001b[0m\n\u001b[0m\u001b[0;32m    322\u001b[0m             response['value'] = self._unwrap_value(\n\u001b[0;32m    323\u001b[0m                 response.get('value', None))\n",
      "\u001b[1;32m~\\AppData\\Local\\Continuum\\anaconda3\\lib\\site-packages\\selenium\\webdriver\\remote\\errorhandler.py\u001b[0m in \u001b[0;36mcheck_response\u001b[1;34m(self, response)\u001b[0m\n\u001b[0;32m    240\u001b[0m                 \u001b[0malert_text\u001b[0m \u001b[1;33m=\u001b[0m \u001b[0mvalue\u001b[0m\u001b[1;33m[\u001b[0m\u001b[1;34m'alert'\u001b[0m\u001b[1;33m]\u001b[0m\u001b[1;33m.\u001b[0m\u001b[0mget\u001b[0m\u001b[1;33m(\u001b[0m\u001b[1;34m'text'\u001b[0m\u001b[1;33m)\u001b[0m\u001b[1;33m\u001b[0m\u001b[0m\n\u001b[0;32m    241\u001b[0m             \u001b[1;32mraise\u001b[0m \u001b[0mexception_class\u001b[0m\u001b[1;33m(\u001b[0m\u001b[0mmessage\u001b[0m\u001b[1;33m,\u001b[0m \u001b[0mscreen\u001b[0m\u001b[1;33m,\u001b[0m \u001b[0mstacktrace\u001b[0m\u001b[1;33m,\u001b[0m \u001b[0malert_text\u001b[0m\u001b[1;33m)\u001b[0m\u001b[1;33m\u001b[0m\u001b[0m\n\u001b[1;32m--> 242\u001b[1;33m         \u001b[1;32mraise\u001b[0m \u001b[0mexception_class\u001b[0m\u001b[1;33m(\u001b[0m\u001b[0mmessage\u001b[0m\u001b[1;33m,\u001b[0m \u001b[0mscreen\u001b[0m\u001b[1;33m,\u001b[0m \u001b[0mstacktrace\u001b[0m\u001b[1;33m)\u001b[0m\u001b[1;33m\u001b[0m\u001b[0m\n\u001b[0m\u001b[0;32m    243\u001b[0m \u001b[1;33m\u001b[0m\u001b[0m\n\u001b[0;32m    244\u001b[0m     \u001b[1;32mdef\u001b[0m \u001b[0m_value_or_default\u001b[0m\u001b[1;33m(\u001b[0m\u001b[0mself\u001b[0m\u001b[1;33m,\u001b[0m \u001b[0mobj\u001b[0m\u001b[1;33m,\u001b[0m \u001b[0mkey\u001b[0m\u001b[1;33m,\u001b[0m \u001b[0mdefault\u001b[0m\u001b[1;33m)\u001b[0m\u001b[1;33m:\u001b[0m\u001b[1;33m\u001b[0m\u001b[0m\n",
      "\u001b[1;31mNoSuchElementException\u001b[0m: Message: no such element: Unable to locate element: {\"method\":\"id\",\"selector\":\"iFrameResizer0\"}\n  (Session info: headless chrome=75.0.3770.100)\n  (Driver info: chromedriver=72.0.3626.69 (3c16f8a135abc0d4da2dff33804db79b849a7c38),platform=Windows NT 10.0.17134 x86_64)\n"
     ]
    }
   ],
   "source": [
    "# First, necessary packages are imported. Since the html stores the swap rates in a separte iframe, \n",
    "# I use Selenium to access the tables\n",
    "\n",
    "import pandas as pd\n",
    "from selenium import webdriver\n",
    "from selenium.webdriver.chrome.options import Options\n",
    "import numpy as np\n",
    "from decimal import *\n",
    "\n",
    "getcontext().prec = 4\n",
    "\n",
    "# Next, I set up the url and options to open Chromedriver in the background with Selenium\n",
    "url = 'https://sebgroup.com/large-corporates-and-institutions/prospectuses-and-downloads/rates/swap-rates'\n",
    "CHROMEDRIVER_PATH = '/Users/David/chromedriver'\n",
    "WINDOW_SIZE = \"1920,1080\"\n",
    "options = Options()  \n",
    "options.add_argument(\"--headless\")  \n",
    "options.add_argument(\"--window-size=%s\" % WINDOW_SIZE)\n",
    "\n",
    "# Finally, initialize the webdriver, call the url, store all source html from the appropriate iframe in a list of dataframes \n",
    "# using Pandas read_html function, and then close the webdriver\n",
    "driver = webdriver.Chrome(executable_path=CHROMEDRIVER_PATH,\n",
    "                          options=options) \n",
    "driver.get(url)\n",
    "driver.switch_to.frame(driver.find_element_by_id('iFrameResizer0'))\n",
    "dfs = pd.read_html(driver.page_source)\n",
    "driver.close()    "
   ]
  },
  {
   "cell_type": "code",
   "execution_count": null,
   "metadata": {},
   "outputs": [],
   "source": [
    "# The next step is to read all swap price columns into a single dataframe, then divide by 100 to get to percentages\n",
    "df = pd.DataFrame(index = dfs[1]['Maturity'].str.strip(\" Yr\").astype('int64'))\n",
    "print(\"Pulled swap curve for:\\n\")\n",
    "for i in range(len(dfs)-1):\n",
    "    if i % 2 == 0:\n",
    "        start = dfs[i][0].values[0].find(\"[\")+1\n",
    "        end = len(dfs[i][0].values[0])-1\n",
    "        cur = dfs[i][0].values[0][dfs[i][0].values[0].find(\"[\")+1:end]\n",
    "        print(cur)\n",
    "        dfs[i+1].index = dfs[i+1]['Maturity'].str.strip(\" Yr\").astype('int64')\n",
    "        df1 = dfs[i+1]['Price']\n",
    "        df1.name = cur\n",
    "        df = pd.concat([df, dfs[i+1]['Price']], axis=1, sort=True)\n",
    "\n",
    "df = df / 100"
   ]
  },
  {
   "cell_type": "code",
   "execution_count": null,
   "metadata": {},
   "outputs": [],
   "source": [
    "# Next, I define to functions, the first to calculate the forward curve, which returns the swap curve scraped from SEB, \n",
    "# the zero coupon curve, and forward curve\n",
    "\n",
    "def forward_curve(currency, maturity, df):\n",
    "    if maturity >10:\n",
    "        return \n",
    "    # Create DataFrame of correct size, initialized with zeros\n",
    "    df1 = pd.DataFrame(np.zeros((maturity,maturity)), index = range(1,maturity+1), columns =range(1,maturity+1))\n",
    "    \n",
    "    # Extract the swap curve for the approprate maturity from the original dataframe\n",
    "    swapc = df[currency][:maturity].values\n",
    "    \n",
    "    # Loop through each time period for the maturity selected and create series of cash flows\n",
    "    for i in range(0,maturity):\n",
    "        index = i+1\n",
    "        # Replicate swap rate for all periods up until maturity\n",
    "        l = [df[currency][index]]*(df[currency].index[i])\n",
    "        # Adjust final cash flow to include principal repayment\n",
    "        l[-1] = l[-1] + 1\n",
    "        # Write data to DataFrame\n",
    "        df1.iloc[i,:index] = l\n",
    "    # Calculate inverse matrix\n",
    "    inv = np.linalg.inv(df1.iloc[0:maturity, 0:maturity])\n",
    "    # Create array of discount periods\n",
    "    disc_per = np.array(range(1,maturity+1))\n",
    "    zcc = 1 / np.dot(inv,np.ones(maturity))**(1/disc_per)-1\n",
    "    fc = ( 1+ zcc[1:])**disc_per[1:] / ((1+zcc[:-1])**disc_per[:-1])-1\n",
    "    fc = np.insert(fc, 0, zcc[0])\n",
    "    return swapc, zcc, fc\n",
    "\n",
    "# This function calls the forward_curve function, then combines all the curves and both nominal and present value of fixed bonds and floater bonds\n",
    "def fixed_vs_float(currency, maturity, df):\n",
    "    if maturity >10:\n",
    "        return \n",
    "    swapc, zcc, fc = forward_curve(currency, maturity, df)\n",
    "    fixed = np.array([df[currency][maturity]] * maturity)\n",
    "    fixed[maturity-1] = fixed[maturity-1] + 1\n",
    "    disc_per = np.array(range(1,maturity+1))\n",
    "    pv_fixed = fixed / (1+ zcc)**disc_per\n",
    "    floater = fc\n",
    "    floater[maturity-1] = 1 + floater[maturity-1]\n",
    "    pv_floater = floater / (1+zcc)**disc_per\n",
    "    full_df = pd.DataFrame(data = [swapc, zcc, fc, fixed, pv_fixed, floater, pv_floater]).T\n",
    "    full_df.columns = ['Swap Curve', 'Zero Coupon Curve', 'Forward Curve', 'Fixed Coupons', 'PV Fixed', 'Floater', 'PV Floater']\n",
    "    full_df.index = disc_per\n",
    "    full_df.index.rename('Maturity', inplace=True)\n",
    "    return full_df\n"
   ]
  },
  {
   "cell_type": "code",
   "execution_count": null,
   "metadata": {},
   "outputs": [],
   "source": [
    "# Test the function for a 5 year USD note\n",
    "curves = fixed_vs_float(\"USD\", 10, df)\n",
    "\n",
    "# Check that PV of both notes equals 100%\n",
    "print(\"Floater value: \", round(sum(curves['PV Floater']),2))\n",
    "print(\"Fixed note value: \", round(sum(curves['PV Fixed']), 2))\n",
    "\n",
    "# Display entire curve dataframe\n",
    "curves"
   ]
  }
 ],
 "metadata": {
  "kernelspec": {
   "display_name": "Python 3",
   "language": "python",
   "name": "python3"
  },
  "language_info": {
   "codemirror_mode": {
    "name": "ipython",
    "version": 3
   },
   "file_extension": ".py",
   "mimetype": "text/x-python",
   "name": "python",
   "nbconvert_exporter": "python",
   "pygments_lexer": "ipython3",
   "version": "3.6.5"
  }
 },
 "nbformat": 4,
 "nbformat_minor": 2
}
